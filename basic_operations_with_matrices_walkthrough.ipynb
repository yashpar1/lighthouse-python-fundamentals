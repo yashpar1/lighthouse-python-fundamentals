{
 "cells": [
  {
   "cell_type": "code",
   "execution_count": 1,
   "id": "d1232f88-f98e-42c1-a99c-1f6ec086ee96",
   "metadata": {},
   "outputs": [],
   "source": [
    "import numpy as np"
   ]
  },
  {
   "cell_type": "code",
   "execution_count": 8,
   "id": "51b9026c-ec18-4b50-84fd-aa98860d9d01",
   "metadata": {},
   "outputs": [
    {
     "name": "stdout",
     "output_type": "stream",
     "text": [
      "[1 2 3 4]\n",
      "<class 'numpy.ndarray'>\n",
      "<class 'numpy.ndarray'>\n"
     ]
    }
   ],
   "source": [
    "x = np.array([1, 2, 3, 4])\n",
    "print(x)\n",
    "A = np.array([[1,2],[3,4],[5,6]])\n",
    "print(type(A))\n",
    "print(type(x))"
   ]
  },
  {
   "cell_type": "code",
   "execution_count": 12,
   "id": "74f521c2-8419-4225-b755-dfeae498843f",
   "metadata": {},
   "outputs": [
    {
     "name": "stdout",
     "output_type": "stream",
     "text": [
      "(3, 2)\n",
      "(4,)\n",
      "4\n"
     ]
    }
   ],
   "source": [
    "print(A.shape)\n",
    "print(x.shape)\n",
    "print(len(x))"
   ]
  },
  {
   "cell_type": "code",
   "execution_count": 17,
   "id": "d1fbff84-c793-4f12-99ff-4d3757d12d71",
   "metadata": {},
   "outputs": [],
   "source": [
    "A_T = A.T"
   ]
  },
  {
   "cell_type": "code",
   "execution_count": 22,
   "id": "2200f9a6-7e64-4a95-99c2-d2e1bb534c02",
   "metadata": {},
   "outputs": [],
   "source": [
    "B = np.array([[2, 5], [7, 4], [4, 3]])\n",
    "C = A + B\n",
    "D = A + 1"
   ]
  },
  {
   "cell_type": "code",
   "execution_count": 29,
   "id": "cd455331-05fa-4442-8959-a67a7a78f8e8",
   "metadata": {},
   "outputs": [
    {
     "name": "stdout",
     "output_type": "stream",
     "text": [
      "(3, 1)\n"
     ]
    }
   ],
   "source": [
    "E = np.array([[2], [4]])\n",
    "F = np.dot(A, E)\n",
    "F = A.dot(E)\n",
    "print(F.shape)"
   ]
  },
  {
   "cell_type": "code",
   "execution_count": 31,
   "id": "fa82c680-4874-487c-944e-4f0b168893b5",
   "metadata": {},
   "outputs": [
    {
     "name": "stdout",
     "output_type": "stream",
     "text": [
      "[[1. 2.]\n",
      " [3. 4.]\n",
      " [5. 6.]]\n"
     ]
    }
   ],
   "source": [
    "I = np.eye(3)\n",
    "IA = I.dot(A)\n",
    "print(IA)"
   ]
  },
  {
   "cell_type": "code",
   "execution_count": 35,
   "id": "d0aca83c-96b0-4a97-8572-c0a04616e90e",
   "metadata": {},
   "outputs": [
    {
     "name": "stdout",
     "output_type": "stream",
     "text": [
      "-2.0000000000000004\n"
     ]
    }
   ],
   "source": [
    "M = np.array([[1,2],[3,4]])\n",
    "det_M = np.linalg.det(M)\n",
    "print(det_M)\n",
    "#N = np.array([[1,2],[3,4],[5,6]])\n",
    "#det_N = np.linalg.det(N)\n",
    "#print(det_N)"
   ]
  },
  {
   "cell_type": "code",
   "execution_count": 38,
   "id": "cc164d78-2c7e-4b0a-9cf1-95619a2dd6d1",
   "metadata": {},
   "outputs": [
    {
     "name": "stdout",
     "output_type": "stream",
     "text": [
      "[[ 3  0  2]\n",
      " [ 2  0 -2]\n",
      " [ 0  1  1]]\n",
      "[[ 0.2  0.2  0. ]\n",
      " [-0.2  0.3  1. ]\n",
      " [ 0.2 -0.3 -0. ]]\n",
      "[[ 1.00000000e+00  0.00000000e+00 -1.11022302e-16]\n",
      " [ 0.00000000e+00  1.00000000e+00  0.00000000e+00]\n",
      " [ 0.00000000e+00  0.00000000e+00  1.00000000e+00]]\n"
     ]
    }
   ],
   "source": [
    "N = np.array([[3, 0, 2], [2, 0, -2], [0, 1, 1]])\n",
    "N_inv = np.linalg.inv(N)\n",
    "print(N)\n",
    "print(N_inv)\n",
    "I = N_inv.dot(N)\n",
    "print(I)"
   ]
  },
  {
   "cell_type": "code",
   "execution_count": null,
   "id": "1b9468dc-4e30-4127-9d39-e30d375726f5",
   "metadata": {},
   "outputs": [],
   "source": []
  }
 ],
 "metadata": {
  "kernelspec": {
   "display_name": "Python 3 (ipykernel)",
   "language": "python",
   "name": "python3"
  },
  "language_info": {
   "codemirror_mode": {
    "name": "ipython",
    "version": 3
   },
   "file_extension": ".py",
   "mimetype": "text/x-python",
   "name": "python",
   "nbconvert_exporter": "python",
   "pygments_lexer": "ipython3",
   "version": "3.9.12"
  }
 },
 "nbformat": 4,
 "nbformat_minor": 5
}
