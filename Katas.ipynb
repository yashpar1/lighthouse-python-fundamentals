{
 "cells": [
  {
   "cell_type": "code",
   "execution_count": 6,
   "id": "a8108df2-f339-4495-a016-f2ae3cf0c05d",
   "metadata": {},
   "outputs": [
    {
     "name": "stdout",
     "output_type": "stream",
     "text": [
      "11\n",
      "5\n",
      "126\n"
     ]
    }
   ],
   "source": [
    "# kata 1\n",
    "\n",
    "def sumLargestNumbers(x):\n",
    "    big = max(x)\n",
    "    x.remove(big)\n",
    "    small = max(x)\n",
    "    return big + small\n",
    "\n",
    "print(sumLargestNumbers([1, 10]))\n",
    "print(sumLargestNumbers([1, 2, 3]))\n",
    "print(sumLargestNumbers([10, 4, 34, 6, 92, 2]))"
   ]
  },
  {
   "cell_type": "code",
   "execution_count": 7,
   "id": "def553b1-02d9-459f-b847-4999a44fc467",
   "metadata": {},
   "outputs": [
    {
     "name": "stdout",
     "output_type": "stream",
     "text": [
      "6\n",
      "9\n",
      "144\n",
      "0\n"
     ]
    }
   ],
   "source": [
    "# kata 2\n",
    "\n",
    "def conditionalSum(values, condition):\n",
    "    total = 0\n",
    "    if condition == 'even':\n",
    "        for i in values:\n",
    "            if i % 2 == 0:\n",
    "                total += i\n",
    "    elif condition == 'odd':\n",
    "        for i in values:\n",
    "            if i % 2 == 1:\n",
    "                total += i\n",
    "    else:\n",
    "        return 'Unexpected condition'\n",
    "    return total\n",
    "\n",
    "\n",
    "print(conditionalSum([1, 2, 3, 4, 5], \"even\"))\n",
    "print(conditionalSum([1, 2, 3, 4, 5], \"odd\"))\n",
    "print(conditionalSum([13, 88, 12, 44, 99], \"even\"))\n",
    "print(conditionalSum([], \"odd\"))"
   ]
  },
  {
   "cell_type": "code",
   "execution_count": 12,
   "id": "25e36a88-ca2f-4bda-8727-11b0882f3099",
   "metadata": {},
   "outputs": [
    {
     "name": "stdout",
     "output_type": "stream",
     "text": [
      "3\n",
      "5\n",
      "5\n"
     ]
    }
   ],
   "source": [
    "# kata 3\n",
    "\n",
    "def numberOfVowels(data):\n",
    "    number = 0\n",
    "    vowels = ['a','e','i','o','u']\n",
    "    for i in data:\n",
    "        if i in vowels:\n",
    "            number += 1\n",
    "    return number\n",
    "        \n",
    "\n",
    "\n",
    "print(numberOfVowels(\"orange\"))\n",
    "print(numberOfVowels(\"lighthouse labs\"))\n",
    "print(numberOfVowels(\"aeiou\"))"
   ]
  },
  {
   "cell_type": "code",
   "execution_count": 31,
   "id": "18ac9f8f-dfe0-47a5-a15e-738dd1abd012",
   "metadata": {},
   "outputs": [
    {
     "name": "stdout",
     "output_type": "stream",
     "text": [
      "{'name': 'Jeremiah', 'course': 'Data'}\n",
      "{'name': 'Domascus', 'course': 'Web'}\n"
     ]
    }
   ],
   "source": [
    "# kata 4\n",
    "\n",
    "def instructorWithLongestName(instructors):\n",
    "    name_len = []\n",
    "    for i in instructors:\n",
    "        name_len.append(len(i[\"name\"]))\n",
    "    long = name_len.index(max(name_len))\n",
    "    return instructors[long]\n",
    "\n",
    "print(instructorWithLongestName([\n",
    "  {\"name\": \"Samuel\", \"course\": \"iOS\"},\n",
    "  {\"name\": \"Jeremiah\", \"course\": \"Data\"},\n",
    "  {\"name\": \"Ophilia\", \"course\": \"Web\"},\n",
    "  {\"name\": \"Donald\", \"course\": \"Web\"}\n",
    "]))\n",
    "print(instructorWithLongestName([\n",
    "  {\"name\": \"Matthew\", \"course\": \"Data\"},\n",
    "  {\"name\": \"David\", \"course\": \"iOS\"},\n",
    "  {\"name\": \"Domascus\", \"course\": \"Web\"}\n",
    "]))"
   ]
  },
  {
   "cell_type": "code",
   "execution_count": 34,
   "id": "5a8f2391-95e5-4f28-86d7-583eb8a72c34",
   "metadata": {},
   "outputs": [
    {
     "name": "stdout",
     "output_type": "stream",
     "text": [
      "Lighthouse%20Labs\n",
      "Lighthouse%20Labs\n",
      "blue%20is%20greener%20than%20purple%20for%20sure\n"
     ]
    }
   ],
   "source": [
    "# kata 5\n",
    "\n",
    "def urlEncode(text):\n",
    "    return text.strip().replace(' ', '%20')\n",
    "\n",
    "\n",
    "print(urlEncode(\"Lighthouse Labs\"))\n",
    "print(urlEncode(\" Lighthouse Labs  \"))\n",
    "print(urlEncode(\"blue is greener than purple for sure\"))"
   ]
  },
  {
   "cell_type": "code",
   "execution_count": 65,
   "id": "4847aeb1-76cc-4702-8414-18766e3f1682",
   "metadata": {},
   "outputs": [
    {
     "name": "stdout",
     "output_type": "stream",
     "text": [
      "[4, 0]\n",
      "False\n",
      "[0, 3]\n"
     ]
    }
   ],
   "source": [
    "# kata 6\n",
    "\n",
    "def whereCanIPark(spots, vehicle):\n",
    "    if vehicle != 'regular' and vehicle != 'small' and vehicle != 'motorcycle': return 'Vehicle type unrecognized'\n",
    "    default = False\n",
    "    for x in range(len(spots)):\n",
    "        for y in range(len(spots[x])):\n",
    "            if vehicle == 'regular' and spots[y][x] == 'R': \n",
    "                return [x,y]\n",
    "            elif vehicle == 'small' and (spots[y][x] == 'R' or spots[y][x] == 'S'):\n",
    "                return [x,y]\n",
    "            elif vehicle == 'motorcycle' and (spots[y][x] == 'R' or spots[y][x] == 'S' or spots[y][x] == 'M'):\n",
    "                return [x,y]\n",
    "    return default\n",
    "\n",
    "\n",
    "print(whereCanIPark(\n",
    "  [\n",
    "    # COLUMNS ARE X\n",
    "    # 0    1    2    3    4    5\n",
    "    ['s', 's', 's', 'S', 'R', 'M'], # 0 ROWS ARE Y\n",
    "    ['s', 'M', 's', 'S', 'r', 'M'], # 1\n",
    "    ['s', 'M', 's', 'S', 'r', 'm'], # 2\n",
    "    ['S', 'r', 's', 'm', 'r', 'M'], # 3\n",
    "    ['S', 'r', 's', 'm', 'r', 'M'], # 4\n",
    "    ['S', 'r', 'S', 'M', 'M', 'S']  # 5\n",
    "  ],\n",
    "  'regular'\n",
    "))\n",
    "\n",
    "print(whereCanIPark(\n",
    "  [\n",
    "    ['M', 'M', 'M', 'M'],\n",
    "    ['M', 's', 'M', 'M'],\n",
    "    ['M', 'M', 'M', 'M'],\n",
    "    ['M', 'M', 'r', 'M']\n",
    "  ],\n",
    "  'small'\n",
    "))\n",
    "\n",
    "print(whereCanIPark(\n",
    "  [\n",
    "    ['s', 's', 's', 's', 's', 's'],\n",
    "    ['s', 'm', 's', 'S', 'r', 's'],\n",
    "    ['s', 'm', 's', 'S', 'r', 's'],\n",
    "    ['S', 'r', 's', 'm', 'r', 's'],\n",
    "    ['S', 'r', 's', 'm', 'R', 's'],\n",
    "    ['S', 'r', 'S', 'M', 'm', 'S']\n",
    "  ],\n",
    "  'motorcycle'\n",
    "))"
   ]
  },
  {
   "cell_type": "code",
   "execution_count": 67,
   "id": "b0ed4083-54ad-475a-833a-a54cf7e6e266",
   "metadata": {},
   "outputs": [
    {
     "name": "stdout",
     "output_type": "stream",
     "text": [
      "Polluted\n",
      "Polluted\n",
      "Clean\n"
     ]
    },
    {
     "data": {
      "text/plain": [
       "'\\nPolluted\\nPolluted\\nClean\\n'"
      ]
     },
     "execution_count": 67,
     "metadata": {},
     "output_type": "execute_result"
    }
   ],
   "source": [
    "# kata 7\n",
    "\n",
    "def checkAir(samples, threshold):\n",
    "    dirty = samples.count('dirty')\n",
    "    prop = dirty/len(samples)\n",
    "    if prop >= threshold:\n",
    "        return 'Polluted'\n",
    "    else:\n",
    "        return 'Clean'\n",
    "\n",
    "\n",
    "print(checkAir(\n",
    "  ['clean', 'clean', 'dirty', 'clean', 'dirty', 'clean', 'clean', 'dirty', 'clean', 'dirty'],\n",
    "  0.3\n",
    "))\n",
    "\n",
    "print(checkAir(\n",
    "  ['dirty', 'dirty', 'dirty', 'dirty', 'clean'],\n",
    "  0.25\n",
    "))\n",
    "\n",
    "print(checkAir(\n",
    "  ['clean', 'dirty', 'clean', 'dirty', 'clean', 'dirty', 'clean'],\n",
    "  0.9\n",
    "))"
   ]
  }
 ],
 "metadata": {
  "kernelspec": {
   "display_name": "Python 3 (ipykernel)",
   "language": "python",
   "name": "python3"
  },
  "language_info": {
   "codemirror_mode": {
    "name": "ipython",
    "version": 3
   },
   "file_extension": ".py",
   "mimetype": "text/x-python",
   "name": "python",
   "nbconvert_exporter": "python",
   "pygments_lexer": "ipython3",
   "version": "3.9.12"
  }
 },
 "nbformat": 4,
 "nbformat_minor": 5
}
