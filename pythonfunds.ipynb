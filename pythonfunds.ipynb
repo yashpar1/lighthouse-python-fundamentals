{
 "cells": [
  {
   "cell_type": "code",
   "execution_count": null,
   "id": "aa674f91-87ed-4503-933d-1ff8ad401fef",
   "metadata": {},
   "outputs": [],
   "source": [
    "name = input(\"Please, type in your name: \")\n",
    "print(\"Hello \" + name + \", it's very nice to meet you!\")"
   ]
  },
  {
   "cell_type": "code",
   "execution_count": null,
   "id": "d2a02c41-bd8d-4080-9ab5-43edd631e089",
   "metadata": {},
   "outputs": [],
   "source": [
    "taxRate = 0.14\n",
    "subtotal = 20\n",
    "tax = subtotal * taxRate\n",
    "total = subtotal + tax\n",
    "print(\"Your total bill is: \")\n",
    "print(total)"
   ]
  },
  {
   "cell_type": "code",
   "execution_count": null,
   "id": "3d43f602-8099-4b2a-8f52-73856aa4d038",
   "metadata": {},
   "outputs": [],
   "source": [
    "travelDestinations = [\"Vancouver\",\"Montreal\",\"Calgary\",\"Toronto\"]\n",
    "for city in travelDestinations:\n",
    "    print(city + \" looks like a cool place to go!!\")"
   ]
  },
  {
   "cell_type": "code",
   "execution_count": 22,
   "id": "2bbe7529-ef0e-4200-8dde-cba1024448f6",
   "metadata": {},
   "outputs": [
    {
     "name": "stdout",
     "output_type": "stream",
     "text": [
      "300\n",
      "1000\n",
      "300 300 300\n",
      "23.5\n",
      "Now I'm a string\n",
      "<class 'int'>\n",
      "<class 'int'>\n",
      "1000\n",
      "400\n",
      "foo\n",
      "3090833508912\n",
      "3090870433328\n",
      "True\n",
      "3090787297872\n"
     ]
    }
   ],
   "source": [
    "#Variables in Python Tutorial\n",
    "\n",
    "n=300\n",
    "print(n)\n",
    "n=1000\n",
    "print(n)\n",
    "a=b=c=300\n",
    "print(a,b,c)\n",
    "var = 23.5\n",
    "print(var)\n",
    "var = \"Now I'm a string\"\n",
    "print(var)\n",
    "print(type(300))\n",
    "print(type(n))\n",
    "m=n\n",
    "print(m)\n",
    "m=400\n",
    "print(m)\n",
    "n=\"foo\"\n",
    "print(n)\n",
    "print(id(n))\n",
    "print(id(m))\n",
    "x=10\n",
    "y=10\n",
    "print(id(x) == id(y))\n",
    "print(id(x))\n",
    "# for = 3"
   ]
  },
  {
   "cell_type": "code",
   "execution_count": 57,
   "id": "d867d8d0-bf88-49e8-bdeb-6cf238947909",
   "metadata": {},
   "outputs": [
    {
     "name": "stdout",
     "output_type": "stream",
     "text": [
      "foobar\n",
      "foobarbaz\n",
      "Go team!!!\n",
      "foofoofoofoo\n",
      "foofoofoofoo\n",
      "\n",
      "True\n",
      "False\n",
      "False\n",
      "True\n",
      "122\n",
      "42\n",
      "z\n",
      "*\n",
      "₻\n",
      "✏\n",
      "3\n",
      "99.8\n",
      "a\n",
      "a\n",
      "True\n",
      "oba\n",
      "\n",
      "ooba\n",
      "foa\n",
      "rabo\n",
      "The product of 20 and 25 is 500\n",
      "Foobar\n",
      "FOOBAR\n",
      "2\n"
     ]
    }
   ],
   "source": [
    "# Strings and Character Data in Python\n",
    "\n",
    "s = \"foo\"\n",
    "t = \"bar\"\n",
    "u = \"baz\"\n",
    "print(s + t)\n",
    "print(s + t + u)\n",
    "print('Go team' + '!!!')\n",
    "print(s*4)\n",
    "print(4*s)\n",
    "print(-8 * s)\n",
    "print(s in 'That\\'s food for thought.')\n",
    "print(s in 'That\\'s good for now.')\n",
    "print(s not in 'That\\'s food for thought.')\n",
    "print(s not in 'That\\'s good for now.')\n",
    "print(ord('z'))\n",
    "print(ord('*'))\n",
    "print(chr(122))\n",
    "print(chr(42))\n",
    "print(chr(8379))\n",
    "print(chr(9999))\n",
    "print(len(s))\n",
    "print(str(99.8))\n",
    "s = s + t\n",
    "print(s[4])\n",
    "print(s[-2])\n",
    "print(s[-2] == u[1])\n",
    "print(s[2:5])\n",
    "print(s[-1:-5])\n",
    "print(s[-5:-1])\n",
    "print(s[:6:2])\n",
    "print(s[-1:-5:-1])\n",
    "n = 20\n",
    "m = 25\n",
    "prod = n*m\n",
    "print(f'The product of {n} and {m} is {prod}')\n",
    "print(s.capitalize())\n",
    "print(s.swapcase())\n",
    "print(s.count('o'))"
   ]
  },
  {
   "cell_type": "code",
   "execution_count": 54,
   "id": "0ca25e58-5aef-4d90-8db0-48c5509a9aa5",
   "metadata": {},
   "outputs": [
    {
     "name": "stdin",
     "output_type": "stream",
     "text": [
      " 10\n"
     ]
    },
    {
     "name": "stdout",
     "output_type": "stream",
     "text": [
      "5\n",
      "15\n",
      "25.0\n"
     ]
    },
    {
     "name": "stdin",
     "output_type": "stream",
     "text": [
      " 17\n",
      " 9\n",
      " 3\n"
     ]
    },
    {
     "name": "stdout",
     "output_type": "stream",
     "text": [
      "29\n"
     ]
    }
   ],
   "source": [
    "# Numbers\n",
    "\n",
    "anyNum = int(input())\n",
    "anyNum -= 5\n",
    "print(anyNum)\n",
    "\n",
    "tripleUp = 5\n",
    "tripleUp *= 3\n",
    "print(tripleUp)\n",
    "\n",
    "quarterValue = 100\n",
    "quarterValue /= 4\n",
    "print(quarterValue)\n",
    "\n",
    "sum = 0\n",
    "\n",
    "num = int(input())\n",
    "sum += num\n",
    "\n",
    "num = int(input())\n",
    "sum += num\n",
    "\n",
    "num = int(input())\n",
    "sum += num\n",
    "\n",
    "print(sum)"
   ]
  },
  {
   "cell_type": "code",
   "execution_count": 56,
   "id": "b794a5dc-081a-4417-86bd-6a7ab694fe60",
   "metadata": {},
   "outputs": [
    {
     "name": "stdout",
     "output_type": "stream",
     "text": [
      "6\n",
      "3.0\n",
      "12\n",
      "60466176\n",
      "0\n",
      "1\n",
      "1.5\n",
      "-4\n"
     ]
    }
   ],
   "source": [
    "#Numbers - Tutorial\n",
    "\n",
    "a = 4\n",
    "b = 2\n",
    "c = a + b\n",
    "print(c)\n",
    "print(c/2)\n",
    "print(c*2)\n",
    "print(c**10)\n",
    "print(4%2)\n",
    "print(4%3)\n",
    "print(c/4)\n",
    "print(-11//3)"
   ]
  },
  {
   "cell_type": "code",
   "execution_count": null,
   "id": "445ca7ac-4767-43f8-8e78-e9a2acdba6d8",
   "metadata": {},
   "outputs": [],
   "source": []
  }
 ],
 "metadata": {
  "kernelspec": {
   "display_name": "Python 3 (ipykernel)",
   "language": "python",
   "name": "python3"
  },
  "language_info": {
   "codemirror_mode": {
    "name": "ipython",
    "version": 3
   },
   "file_extension": ".py",
   "mimetype": "text/x-python",
   "name": "python",
   "nbconvert_exporter": "python",
   "pygments_lexer": "ipython3",
   "version": "3.9.12"
  }
 },
 "nbformat": 4,
 "nbformat_minor": 5
}
