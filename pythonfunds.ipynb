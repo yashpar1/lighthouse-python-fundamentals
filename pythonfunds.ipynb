{
 "cells": [
  {
   "cell_type": "code",
   "execution_count": null,
   "id": "aa674f91-87ed-4503-933d-1ff8ad401fef",
   "metadata": {},
   "outputs": [],
   "source": [
    "name = input(\"Please, type in your name: \")\n",
    "print(\"Hello \" + name + \", it's very nice to meet you!\")"
   ]
  },
  {
   "cell_type": "code",
   "execution_count": null,
   "id": "d2a02c41-bd8d-4080-9ab5-43edd631e089",
   "metadata": {},
   "outputs": [],
   "source": [
    "taxRate = 0.14\n",
    "subtotal = 20\n",
    "tax = subtotal * taxRate\n",
    "total = subtotal + tax\n",
    "print(\"Your total bill is: \")\n",
    "print(total)"
   ]
  },
  {
   "cell_type": "code",
   "execution_count": null,
   "id": "3d43f602-8099-4b2a-8f52-73856aa4d038",
   "metadata": {},
   "outputs": [],
   "source": [
    "travelDestinations = [\"Vancouver\",\"Montreal\",\"Calgary\",\"Toronto\"]\n",
    "for city in travelDestinations:\n",
    "    print(city + \" looks like a cool place to go!!\")"
   ]
  },
  {
   "cell_type": "code",
   "execution_count": 20,
   "id": "2bbe7529-ef0e-4200-8dde-cba1024448f6",
   "metadata": {},
   "outputs": [
    {
     "name": "stdout",
     "output_type": "stream",
     "text": [
      "300\n",
      "1000\n",
      "300 300 300\n",
      "23.5\n",
      "Now I'm a string\n",
      "<class 'int'>\n",
      "<class 'int'>\n",
      "1000\n",
      "400\n",
      "foo\n",
      "3090833508912\n",
      "3090870433040\n",
      "True\n",
      "3090787297872\n"
     ]
    }
   ],
   "source": [
    "#Variables in Python Tutorial\n",
    "\n",
    "n=300\n",
    "print(n)\n",
    "n=1000\n",
    "print(n)\n",
    "a=b=c=300\n",
    "print(a,b,c)\n",
    "var = 23.5\n",
    "print(var)\n",
    "var = \"Now I'm a string\"\n",
    "print(var)\n",
    "print(type(300))\n",
    "print(type(n))\n",
    "m=n\n",
    "print(m)\n",
    "m=400\n",
    "print(m)\n",
    "n=\"foo\"\n",
    "print(n)\n",
    "print(id(n))\n",
    "print(id(m))\n",
    "x=10\n",
    "y=10\n",
    "print(id(x) == id(y))\n",
    "print(id(x))"
   ]
  }
 ],
 "metadata": {
  "kernelspec": {
   "display_name": "Python 3 (ipykernel)",
   "language": "python",
   "name": "python3"
  },
  "language_info": {
   "codemirror_mode": {
    "name": "ipython",
    "version": 3
   },
   "file_extension": ".py",
   "mimetype": "text/x-python",
   "name": "python",
   "nbconvert_exporter": "python",
   "pygments_lexer": "ipython3",
   "version": "3.9.12"
  }
 },
 "nbformat": 4,
 "nbformat_minor": 5
}
