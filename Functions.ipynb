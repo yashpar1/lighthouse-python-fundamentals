{
 "cells": [
  {
   "cell_type": "code",
   "execution_count": 20,
   "id": "56c3ab61-8706-4ec3-880b-8629b554ca7d",
   "metadata": {},
   "outputs": [
    {
     "name": "stdout",
     "output_type": "stream",
     "text": [
      "11\n",
      "5\n",
      "126\n"
     ]
    }
   ],
   "source": [
    "# Kata 1 (to put in a gist later)\n",
    "\n",
    "def sumLargestNumbers(x):\n",
    "    big = max(x)\n",
    "    x.remove(big)\n",
    "    small = max(x)\n",
    "    return big + small\n",
    "\n",
    "print(sumLargestNumbers([1, 10]))\n",
    "print(sumLargestNumbers([1, 2, 3]))\n",
    "print(sumLargestNumbers([10, 4, 34, 6, 92, 2]))"
   ]
  },
  {
   "cell_type": "code",
   "execution_count": 36,
   "id": "0fc456a8-4403-422f-a4af-7612e420ad9b",
   "metadata": {},
   "outputs": [
    {
     "name": "stdout",
     "output_type": "stream",
     "text": [
      "HI, YOU\n",
      "('Math', 'Art')\n",
      "{'name': 'John', 'age': 22}\n",
      "False\n",
      "True\n",
      "29\n"
     ]
    }
   ],
   "source": [
    "def hello_func(greeting, name = 'You'):\n",
    "    return '{}, {}'.format(greeting, name)\n",
    "\n",
    "print(hello_func('Hi').upper())\n",
    "\n",
    "def student_info(*args, **kwargs):\n",
    "    print(args)\n",
    "    print(kwargs)\n",
    "\n",
    "courses = ['Math', 'Art']\n",
    "info = {'name': 'John', 'age': 22}\n",
    "    \n",
    "student_info(*courses, **info)\n",
    "\n",
    "month_days = [0, 31, 28, 31, 30, 31, 30, 31, 31, 30, 31, 30, 31]\n",
    "\n",
    "\n",
    "def is_leap(year):\n",
    "    \"\"\"Return True for leap years, False for non-leap years.\"\"\"\n",
    "\n",
    "    return year % 4 == 0 and (year % 100 != 0 or year % 400 == 0)\n",
    "\n",
    "\n",
    "def days_in_month(year, month):\n",
    "    \"\"\"Return number of days in that month in that year.\"\"\"\n",
    "\n",
    "    # year 2017\n",
    "    # month 2\n",
    "    if not 1 <= month <= 12:\n",
    "        return 'Invalid Month'\n",
    "\n",
    "    if month == 2 and is_leap(year):\n",
    "        return 29\n",
    "\n",
    "    return month_days[month]\n",
    "\n",
    "print(is_leap(2017))\n",
    "print(is_leap(2020))\n",
    "print(days_in_month(2020,2))"
   ]
  }
 ],
 "metadata": {
  "kernelspec": {
   "display_name": "Python 3 (ipykernel)",
   "language": "python",
   "name": "python3"
  },
  "language_info": {
   "codemirror_mode": {
    "name": "ipython",
    "version": 3
   },
   "file_extension": ".py",
   "mimetype": "text/x-python",
   "name": "python",
   "nbconvert_exporter": "python",
   "pygments_lexer": "ipython3",
   "version": "3.9.12"
  }
 },
 "nbformat": 4,
 "nbformat_minor": 5
}
